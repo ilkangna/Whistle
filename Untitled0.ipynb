{
  "nbformat": 4,
  "nbformat_minor": 0,
  "metadata": {
    "colab": {
      "name": "Untitled0.ipynb",
      "provenance": [],
      "authorship_tag": "ABX9TyPPCK27uw3j9qwcSeLk8Tue",
      "include_colab_link": true
    },
    "kernelspec": {
      "name": "python3",
      "display_name": "Python 3"
    }
  },
  "cells": [
    {
      "cell_type": "markdown",
      "metadata": {
        "id": "view-in-github",
        "colab_type": "text"
      },
      "source": [
        "<a href=\"https://colab.research.google.com/github/ilkangna/Whistle/blob/master/Untitled0.ipynb\" target=\"_parent\"><img src=\"https://colab.research.google.com/assets/colab-badge.svg\" alt=\"Open In Colab\"/></a>"
      ]
    },
    {
      "cell_type": "code",
      "metadata": {
        "id": "xZfJ9LkN9qJN",
        "colab_type": "code",
        "colab": {}
      },
      "source": [
        ""
      ],
      "execution_count": 0,
      "outputs": []
    },
    {
      "cell_type": "markdown",
      "metadata": {
        "id": "k2Yzatwy9sYv",
        "colab_type": "text"
      },
      "source": [
        "# 생활 속 인공지능 기술\n",
        "------------------------------------------\n",
        "**1. 음성텍스트전사(voice-to-text transcription)**\n",
        "- 행정 업무흐름(administrative workflows) 향상 \n",
        "- 비환자 케어 활동(non-patient-care activity) 제거\n",
        "> 비환자 케어 활동 : 차트 노트 작성, 처방전 작성 및 검사 주문 등의 업무\n"
      ]
    }
  ]
}